{
  "nbformat": 4,
  "nbformat_minor": 0,
  "metadata": {
    "colab": {
      "provenance": []
    },
    "kernelspec": {
      "name": "python3",
      "display_name": "Python 3"
    }
  },
  "cells": [
    {
      "cell_type": "code",
      "metadata": {
        "colab": {
          "base_uri": "https://localhost:8080/"
        },
        "id": "EjK6_LyGCI0a",
        "outputId": "16ad261b-c262-4c39-aaa2-81d09e74f008"
      },
      "source": [
        "!pip install keras.applications"
      ],
      "execution_count": null,
      "outputs": [
        {
          "output_type": "stream",
          "name": "stdout",
          "text": [
            "Collecting keras.applications\n",
            "  Downloading Keras_Applications-1.0.8-py3-none-any.whl (50 kB)\n",
            "\u001b[?25l     \u001b[90m━━━━━━━━━━━━━━━━━━━━━━━━━━━━━━━━━━━━━━━━\u001b[0m \u001b[32m0.0/50.7 kB\u001b[0m \u001b[31m?\u001b[0m eta \u001b[36m-:--:--\u001b[0m\r\u001b[2K     \u001b[90m━━━━━━━━━━━━━━━━━━━━━━━━━━━━━━━━━━━━━━━━\u001b[0m \u001b[32m50.7/50.7 kB\u001b[0m \u001b[31m1.5 MB/s\u001b[0m eta \u001b[36m0:00:00\u001b[0m\n",
            "\u001b[?25hRequirement already satisfied: numpy>=1.9.1 in /usr/local/lib/python3.10/dist-packages (from keras.applications) (1.23.5)\n",
            "Requirement already satisfied: h5py in /usr/local/lib/python3.10/dist-packages (from keras.applications) (3.9.0)\n",
            "Installing collected packages: keras.applications\n",
            "Successfully installed keras.applications-1.0.8\n"
          ]
        }
      ]
    },
    {
      "cell_type": "code",
      "metadata": {
        "id": "9rRtvqcnkuHU",
        "colab": {
          "base_uri": "https://localhost:8080/"
        },
        "outputId": "b5d9208e-9dc1-473e-c272-4c030b145d25"
      },
      "source": [
        "from tensorflow.keras.applications import ResNet50\n",
        "from keras.preprocessing import image\n",
        "from  tensorflow.keras.applications.resnet50 import preprocess_input, decode_predictions\n",
        "#from  tensorflow.keras.applications import vgg16, inception_v3, resnet50\n",
        "import numpy as np\n",
        "\n",
        "resnet_model = ResNet50(weights='imagenet')"
      ],
      "execution_count": null,
      "outputs": [
        {
          "output_type": "stream",
          "name": "stdout",
          "text": [
            "Downloading data from https://storage.googleapis.com/tensorflow/keras-applications/resnet/resnet50_weights_tf_dim_ordering_tf_kernels.h5\n",
            "102967424/102967424 [==============================] - 1s 0us/step\n"
          ]
        }
      ]
    },
    {
      "cell_type": "code",
      "metadata": {
        "id": "642N9ZP0kzV1",
        "colab": {
          "base_uri": "https://localhost:8080/"
        },
        "outputId": "1aaf2130-e510-4102-a23d-df3df502c775"
      },
      "source": [
        "from keras.preprocessing import image\n",
        "img_path = '/content/img1.jpg'\n",
        "img = image.load_img(img_path, target_size=(224, 224))\n",
        "x = image.img_to_array(img)\n",
        "print(x.shape)\n",
        "x = np.expand_dims(x, axis=0)\n",
        "print(x.shape)\n",
        "x = preprocess_input(x)\n",
        "\n",
        "preds = resnet_model.predict(x)\n",
        "# decode the results into a list of tuples (class, description, probability)\n",
        "# (one such list for each sample in the batch)\n",
        "print('Predicted:', decode_predictions(preds, top=5)[0])"
      ],
      "execution_count": null,
      "outputs": [
        {
          "output_type": "stream",
          "name": "stdout",
          "text": [
            "(224, 224, 3)\n",
            "(1, 224, 224, 3)\n"
          ]
        },
        {
          "output_type": "stream",
          "name": "stderr",
          "text": [
            "WARNING:tensorflow:5 out of the last 7 calls to <function Model.make_predict_function.<locals>.predict_function at 0x7a508e475fc0> triggered tf.function retracing. Tracing is expensive and the excessive number of tracings could be due to (1) creating @tf.function repeatedly in a loop, (2) passing tensors with different shapes, (3) passing Python objects instead of tensors. For (1), please define your @tf.function outside of the loop. For (2), @tf.function has reduce_retracing=True option that can avoid unnecessary retracing. For (3), please refer to https://www.tensorflow.org/guide/function#controlling_retracing and https://www.tensorflow.org/api_docs/python/tf/function for  more details.\n"
          ]
        },
        {
          "output_type": "stream",
          "name": "stdout",
          "text": [
            "1/1 [==============================] - 1s 1s/step\n",
            "Predicted: [('n02708093', 'analog_clock', 0.68304396), ('n03197337', 'digital_watch', 0.10792678), ('n04328186', 'stopwatch', 0.088872686), ('n04548280', 'wall_clock', 0.046025887), ('n03706229', 'magnetic_compass', 0.03559024)]\n"
          ]
        }
      ]
    },
    {
      "cell_type": "code",
      "metadata": {
        "id": "J3L4MckAnlfD"
      },
      "source": [
        "from  tensorflow.keras.applications import VGG16,VGG19\n",
        "from keras.preprocessing import image\n",
        "import numpy as np\n",
        "vggModel=VGG16(weights='imagenet')\n",
        "vgg19Model=VGG19(weights='imagenet')"
      ],
      "execution_count": null,
      "outputs": []
    },
    {
      "cell_type": "code",
      "metadata": {
        "colab": {
          "base_uri": "https://localhost:8080/"
        },
        "id": "0ScHWu3QDF88",
        "outputId": "344e24ba-b39e-4578-b15f-4d15a5601748"
      },
      "source": [
        "path='/content/img1.jpg'\n",
        "# reading the image  in PIL  format\n",
        "pimg=image.load_img(path,target_size=(224,224))\n",
        "# Converts a PIL Image instance to a Numpy array\n",
        "iarray=image.img_to_array(pimg)\n",
        "print('image shape',iarray.shape)\n"
      ],
      "execution_count": null,
      "outputs": [
        {
          "output_type": "stream",
          "name": "stdout",
          "text": [
            "image shape (224, 224, 3)\n"
          ]
        }
      ]
    },
    {
      "cell_type": "code",
      "source": [
        "iexpand = np.expand_dims(iarray,axis=0) # Expand the shape of an array.\n",
        "iexpand.shape"
      ],
      "metadata": {
        "colab": {
          "base_uri": "https://localhost:8080/"
        },
        "id": "m5bMXSBQ8GyB",
        "outputId": "16546528-4b4e-471c-eb35-7a1fa76f6435"
      },
      "execution_count": null,
      "outputs": [
        {
          "output_type": "execute_result",
          "data": {
            "text/plain": [
              "(1, 224, 224, 3)"
            ]
          },
          "metadata": {},
          "execution_count": 16
        }
      ]
    },
    {
      "cell_type": "code",
      "metadata": {
        "id": "-lPApcrPGFWV"
      },
      "source": [
        "#iexpand"
      ],
      "execution_count": null,
      "outputs": []
    },
    {
      "cell_type": "code",
      "metadata": {
        "colab": {
          "base_uri": "https://localhost:8080/"
        },
        "id": "SSz4PymtEhXW",
        "outputId": "7ad9625f-0183-4eb7-8c65-2a489bf08917"
      },
      "source": [
        "from tensorflow.keras.applications.vgg16 import preprocess_input\n",
        "preprocess_input(iexpand)"
      ],
      "execution_count": null,
      "outputs": [
        {
          "output_type": "execute_result",
          "data": {
            "text/plain": [
              "array([[[[ -27.939003 ,   51.221    ,   93.32     ],\n",
              "         [ -27.939003 ,   51.221    ,   93.32     ],\n",
              "         [ -26.939003 ,   52.221    ,   94.32     ],\n",
              "         ...,\n",
              "         [-101.939    , -110.779    ,  -89.68     ],\n",
              "         [-101.939    , -110.779    ,  -89.68     ],\n",
              "         [-101.939    , -110.779    ,  -89.68     ]],\n",
              "\n",
              "        [[ -27.939003 ,   51.221    ,   93.32     ],\n",
              "         [ -27.939003 ,   51.221    ,   93.32     ],\n",
              "         [ -26.939003 ,   52.221    ,   94.32     ],\n",
              "         ...,\n",
              "         [-101.939    , -110.779    ,  -89.68     ],\n",
              "         [-101.939    , -110.779    ,  -89.68     ],\n",
              "         [-101.939    , -110.779    ,  -89.68     ]],\n",
              "\n",
              "        [[ -27.939003 ,   51.221    ,   93.32     ],\n",
              "         [ -26.939003 ,   52.221    ,   94.32     ],\n",
              "         [ -26.939003 ,   52.221    ,   94.32     ],\n",
              "         ...,\n",
              "         [-101.939    , -110.779    ,  -89.68     ],\n",
              "         [-101.939    , -110.779    ,  -89.68     ],\n",
              "         [-101.939    , -110.779    ,  -89.68     ]],\n",
              "\n",
              "        ...,\n",
              "\n",
              "        [[ -67.939    ,   -5.7789993,   56.32     ],\n",
              "         [ -67.939    ,   -5.7789993,   56.32     ],\n",
              "         [ -67.939    ,   -5.7789993,   56.32     ],\n",
              "         ...,\n",
              "         [ -82.939    ,  -19.779    ,   49.32     ],\n",
              "         [ -82.939    ,  -19.779    ,   49.32     ],\n",
              "         [ -85.939    ,  -24.779    ,   46.32     ]],\n",
              "\n",
              "        [[ -67.939    ,   -5.7789993,   56.32     ],\n",
              "         [ -67.939    ,   -5.7789993,   56.32     ],\n",
              "         [ -67.939    ,   -5.7789993,   56.32     ],\n",
              "         ...,\n",
              "         [ -84.939    ,  -20.779    ,   45.32     ],\n",
              "         [ -85.939    ,  -22.779    ,   46.32     ],\n",
              "         [ -77.939    ,  -16.779    ,   54.32     ]],\n",
              "\n",
              "        [[ -67.939    ,   -5.7789993,   56.32     ],\n",
              "         [ -67.939    ,   -5.7789993,   56.32     ],\n",
              "         [ -66.939    ,   -4.7789993,   57.32     ],\n",
              "         ...,\n",
              "         [ -77.939    ,  -14.778999 ,   54.32     ],\n",
              "         [ -77.939    ,  -14.778999 ,   54.32     ],\n",
              "         [ -77.939    ,  -14.778999 ,   54.32     ]]]], dtype=float32)"
            ]
          },
          "metadata": {},
          "execution_count": 18
        }
      ]
    },
    {
      "cell_type": "code",
      "metadata": {
        "id": "W7gzO_6jGCzD",
        "colab": {
          "base_uri": "https://localhost:8080/"
        },
        "outputId": "d564083e-f7a1-4d50-c859-b660bf41ab1e"
      },
      "source": [
        "pred=vggModel.predict(iexpand)\n",
        "pred19=vgg19Model.predict(iexpand)\n"
      ],
      "execution_count": null,
      "outputs": [
        {
          "output_type": "stream",
          "name": "stdout",
          "text": [
            "1/1 [==============================] - 1s 777ms/step\n",
            "1/1 [==============================] - 1s 782ms/step\n"
          ]
        }
      ]
    },
    {
      "cell_type": "code",
      "source": [],
      "metadata": {
        "id": "DJyz19PU8_wg"
      },
      "execution_count": null,
      "outputs": []
    },
    {
      "cell_type": "code",
      "metadata": {
        "colab": {
          "base_uri": "https://localhost:8080/"
        },
        "id": "ABdLMP5TGT3W",
        "outputId": "5cb78bf6-3a9b-44a7-9637-b6f2e867188e"
      },
      "source": [
        "from  tensorflow.keras.applications.vgg16 import decode_predictions\n",
        "decode_predictions(pred,top=5)[0]"
      ],
      "execution_count": null,
      "outputs": [
        {
          "output_type": "execute_result",
          "data": {
            "text/plain": [
              "[('n02708093', 'analog_clock', 0.5990842),\n",
              " ('n04328186', 'stopwatch', 0.19017416),\n",
              " ('n03197337', 'digital_watch', 0.048872355),\n",
              " ('n03706229', 'magnetic_compass', 0.032040115),\n",
              " ('n04579432', 'whistle', 0.031827547)]"
            ]
          },
          "metadata": {},
          "execution_count": 22
        }
      ]
    },
    {
      "cell_type": "code",
      "metadata": {
        "colab": {
          "base_uri": "https://localhost:8080/"
        },
        "id": "_CvNF-bMHAs0",
        "outputId": "9d04fe8a-b908-4d28-eef4-c85e4ad131a3"
      },
      "source": [
        "from  tensorflow.keras.applications.vgg19 import decode_predictions\n",
        "decode_predictions(pred19,top=5)[0]\n"
      ],
      "execution_count": null,
      "outputs": [
        {
          "output_type": "execute_result",
          "data": {
            "text/plain": [
              "[('n04328186', 'stopwatch', 0.84254813),\n",
              " ('n03706229', 'magnetic_compass', 0.07344138),\n",
              " ('n03197337', 'digital_watch', 0.040334538),\n",
              " ('n02708093', 'analog_clock', 0.037951477),\n",
              " ('n04579432', 'whistle', 0.0027444856)]"
            ]
          },
          "metadata": {},
          "execution_count": 23
        }
      ]
    },
    {
      "cell_type": "code",
      "metadata": {
        "id": "b-9ybXD2I6Xk"
      },
      "source": [
        "from tensorflow.keras.applications import ResNet50,ResNet152\n",
        "import numpy as np\n",
        "from tensorflow.keras.preprocessing import image\n",
        "from tensorflow.keras.applications.resnet50 import decode_predictions,preprocess_input\n"
      ],
      "execution_count": null,
      "outputs": []
    },
    {
      "cell_type": "code",
      "metadata": {
        "id": "kU5_bPH0PuRd"
      },
      "source": [
        "from tensorflow.python.keras.applications.resnet_v2 import ResNet152V2\n",
        "rmodel=ResNet50(weights='imagenet')\n",
        "rmmodel152=ResNet152(weights='imagenet')"
      ],
      "execution_count": null,
      "outputs": []
    },
    {
      "cell_type": "code",
      "metadata": {
        "colab": {
          "base_uri": "https://localhost:8080/"
        },
        "id": "gtZ8hwjIPzDd",
        "outputId": "44c4242a-affe-4c10-eaa2-80c1ad93dc9d"
      },
      "source": [
        "file='/content/keyboard.jpg'\n",
        "dimg =image.load_img(file,target_size=(224,224))\n",
        "darray =image.img_to_array(dimg)\n",
        "dexpand=np.expand_dims(darray,axis=0)\n",
        "pv=rmodel.predict(dexpand)\n",
        "pv1=rmmodel152.predict(dexpand)\n"
      ],
      "execution_count": null,
      "outputs": [
        {
          "output_type": "stream",
          "name": "stdout",
          "text": [
            "WARNING:tensorflow:5 out of the last 11 calls to <function Model.make_predict_function.<locals>.predict_function at 0x7f359584f200> triggered tf.function retracing. Tracing is expensive and the excessive number of tracings could be due to (1) creating @tf.function repeatedly in a loop, (2) passing tensors with different shapes, (3) passing Python objects instead of tensors. For (1), please define your @tf.function outside of the loop. For (2), @tf.function has experimental_relax_shapes=True option that relaxes argument shapes that can avoid unnecessary retracing. For (3), please refer to https://www.tensorflow.org/guide/function#controlling_retracing and https://www.tensorflow.org/api_docs/python/tf/function for  more details.\n"
          ]
        }
      ]
    },
    {
      "cell_type": "code",
      "metadata": {
        "colab": {
          "base_uri": "https://localhost:8080/"
        },
        "id": "jmBra0gsQn7b",
        "outputId": "28ef8cca-8e67-4032-d01c-eda4b0439a06"
      },
      "source": [
        "decode_predictions(pv)"
      ],
      "execution_count": null,
      "outputs": [
        {
          "output_type": "execute_result",
          "data": {
            "text/plain": [
              "[[('n03085013', 'computer_keyboard', 0.6801595),\n",
              "  ('n04204238', 'shopping_basket', 0.087198675),\n",
              "  ('n04264628', 'space_bar', 0.054430794),\n",
              "  ('n03832673', 'notebook', 0.040711187),\n",
              "  ('n03482405', 'hamper', 0.03810587)]]"
            ]
          },
          "metadata": {},
          "execution_count": 25
        }
      ]
    },
    {
      "cell_type": "code",
      "metadata": {
        "colab": {
          "base_uri": "https://localhost:8080/"
        },
        "id": "Z0cWpwN1Qr9m",
        "outputId": "cd015a1d-7885-4af0-98f2-29808381a402"
      },
      "source": [
        "from tensorflow.keras.applications.resnet_v2 import decode_predictions,preprocess_input\n",
        "decode_predictions(pv1)"
      ],
      "execution_count": null,
      "outputs": [
        {
          "output_type": "execute_result",
          "data": {
            "text/plain": [
              "[[('n04264628', 'space_bar', 0.5272511),\n",
              "  ('n04505470', 'typewriter_keyboard', 0.25604436),\n",
              "  ('n03085013', 'computer_keyboard', 0.2102535),\n",
              "  ('n02666196', 'abacus', 0.0060017263),\n",
              "  ('n03832673', 'notebook', 0.0002027844)]]"
            ]
          },
          "metadata": {},
          "execution_count": 27
        }
      ]
    },
    {
      "cell_type": "code",
      "metadata": {
        "id": "r20yL8y0TN_n"
      },
      "source": [],
      "execution_count": null,
      "outputs": []
    }
  ]
}