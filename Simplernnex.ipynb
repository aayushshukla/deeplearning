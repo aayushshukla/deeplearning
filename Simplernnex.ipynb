{
  "nbformat": 4,
  "nbformat_minor": 0,
  "metadata": {
    "colab": {
      "provenance": []
    },
    "kernelspec": {
      "name": "python3",
      "display_name": "Python 3"
    },
    "language_info": {
      "name": "python"
    }
  },
  "cells": [
    {
      "cell_type": "code",
      "execution_count": null,
      "metadata": {
        "id": "ue34BA0OtMkJ"
      },
      "outputs": [],
      "source": [
        "import numpy as np\n",
        "import pandas as pd\n",
        "import tensorflow as tf\n",
        "from keras.models import Sequential\n",
        "from keras.layers import SimpleRNN,Dense,Embedding"
      ]
    },
    {
      "cell_type": "code",
      "source": [],
      "metadata": {
        "id": "QH9XFY2zQcuJ"
      },
      "execution_count": null,
      "outputs": []
    },
    {
      "cell_type": "markdown",
      "source": [
        "Creating Training Data"
      ],
      "metadata": {
        "id": "qhgPcuhctwg_"
      }
    },
    {
      "cell_type": "code",
      "source": [
        "data =np.array(list(range(10))).astype(float)\n",
        "data"
      ],
      "metadata": {
        "colab": {
          "base_uri": "https://localhost:8080/"
        },
        "id": "fAHXGaG5ttwZ",
        "outputId": "5c849acf-0a23-4e4d-eca1-1fcf97400517"
      },
      "execution_count": null,
      "outputs": [
        {
          "output_type": "execute_result",
          "data": {
            "text/plain": [
              "array([0., 1., 2., 3., 4., 5., 6., 7., 8., 9.])"
            ]
          },
          "metadata": {},
          "execution_count": 4
        }
      ]
    },
    {
      "cell_type": "code",
      "source": [
        "window_size=3  # number of training data"
      ],
      "metadata": {
        "id": "mx8l__fYt8bb"
      },
      "execution_count": null,
      "outputs": []
    },
    {
      "cell_type": "code",
      "source": [
        "trainingdata=[np.array(data[i:i+window_size]).reshape(1,-1) for i in range(data.shape[0]-window_size)]\n",
        "trainingdata=np.concatenate(trainingdata*10,axis=0)\n",
        "trainingdata=trainingdata.reshape(trainingdata.shape[0],trainingdata.shape[1],1)\n",
        "\n"
      ],
      "metadata": {
        "id": "YSZJ15ruuNuE"
      },
      "execution_count": null,
      "outputs": []
    },
    {
      "cell_type": "code",
      "source": [
        "trainingdata.shape"
      ],
      "metadata": {
        "colab": {
          "base_uri": "https://localhost:8080/"
        },
        "id": "56AVMQlru1z9",
        "outputId": "37600fae-2445-4ad2-d4c4-c853f17616d5"
      },
      "execution_count": null,
      "outputs": [
        {
          "output_type": "execute_result",
          "data": {
            "text/plain": [
              "(70, 3, 1)"
            ]
          },
          "metadata": {},
          "execution_count": 41
        }
      ]
    },
    {
      "cell_type": "code",
      "source": [
        "trainingdata[:3]"
      ],
      "metadata": {
        "colab": {
          "base_uri": "https://localhost:8080/"
        },
        "id": "HlgXmQdLw4zL",
        "outputId": "315fa1b7-2b72-437b-9f9b-f8fba3f3ea90"
      },
      "execution_count": null,
      "outputs": [
        {
          "output_type": "execute_result",
          "data": {
            "text/plain": [
              "array([[[0.],\n",
              "        [1.],\n",
              "        [2.]],\n",
              "\n",
              "       [[1.],\n",
              "        [2.],\n",
              "        [3.]],\n",
              "\n",
              "       [[2.],\n",
              "        [3.],\n",
              "        [4.]]])"
            ]
          },
          "metadata": {},
          "execution_count": 42
        }
      ]
    },
    {
      "cell_type": "code",
      "source": [
        "traininglabels=[data[i+window_size]for i in range(data.shape[0]-window_size)]\n",
        "traininglabels=np.concatenate([traininglabels]*10,axis=0).reshape(-1,1)\n",
        "traininglabels[0:5]"
      ],
      "metadata": {
        "colab": {
          "base_uri": "https://localhost:8080/"
        },
        "id": "CmdorIOPw9jW",
        "outputId": "e0fb49c1-1c6c-4811-bd3d-0fea29095cf2"
      },
      "execution_count": null,
      "outputs": [
        {
          "output_type": "execute_result",
          "data": {
            "text/plain": [
              "array([[3.],\n",
              "       [4.],\n",
              "       [5.],\n",
              "       [6.],\n",
              "       [7.]])"
            ]
          },
          "metadata": {},
          "execution_count": 43
        }
      ]
    },
    {
      "cell_type": "code",
      "source": [
        "from keras.src.callbacks import EarlyStopping\n",
        "from keras.src.optimizers.legacy.adam import Adam\n",
        "#intialiase mode\n",
        "model=Sequential()\n",
        "#rnn layer\n",
        "model.add(SimpleRNN(1,activation='linear'))\n",
        "\n",
        "#compile model\n",
        "model.compile(loss='mean_squared_error',optimizer=Adam(learning_rate=1),\n",
        "              metrics=['mse'],\n",
        "\n",
        "              )\n",
        "callback=EarlyStopping(monitor='loss',patience=25)\n",
        "#train model\n",
        "model.fit(trainingdata,traininglabels,epochs=200,verbose=1,callbacks=callback)"
      ],
      "metadata": {
        "colab": {
          "base_uri": "https://localhost:8080/"
        },
        "id": "Av5o1xc10gDJ",
        "outputId": "67810886-d009-4c72-fcfd-3b6b04d6ecb5"
      },
      "execution_count": null,
      "outputs": [
        {
          "output_type": "stream",
          "name": "stdout",
          "text": [
            "Epoch 1/200\n",
            "3/3 [==============================] - 1s 4ms/step - loss: 75.0521 - mse: 75.0521\n",
            "Epoch 2/200\n",
            "3/3 [==============================] - 0s 4ms/step - loss: 33.2309 - mse: 33.2309\n",
            "Epoch 3/200\n",
            "3/3 [==============================] - 0s 4ms/step - loss: 35.5118 - mse: 35.5118\n",
            "Epoch 4/200\n",
            "3/3 [==============================] - 0s 5ms/step - loss: 38.4540 - mse: 38.4540\n",
            "Epoch 5/200\n",
            "3/3 [==============================] - 0s 6ms/step - loss: 24.8712 - mse: 24.8712\n",
            "Epoch 6/200\n",
            "3/3 [==============================] - 0s 4ms/step - loss: 9.0603 - mse: 9.0603\n",
            "Epoch 7/200\n",
            "3/3 [==============================] - 0s 3ms/step - loss: 7.8263 - mse: 7.8263\n",
            "Epoch 8/200\n",
            "3/3 [==============================] - 0s 4ms/step - loss: 1.6500 - mse: 1.6500\n",
            "Epoch 9/200\n",
            "3/3 [==============================] - 0s 3ms/step - loss: 0.0474 - mse: 0.0474\n",
            "Epoch 10/200\n",
            "3/3 [==============================] - 0s 4ms/step - loss: 0.6582 - mse: 0.6582\n",
            "Epoch 11/200\n",
            "3/3 [==============================] - 0s 5ms/step - loss: 2.7988 - mse: 2.7988\n",
            "Epoch 12/200\n",
            "3/3 [==============================] - 0s 6ms/step - loss: 0.6532 - mse: 0.6532\n",
            "Epoch 13/200\n",
            "3/3 [==============================] - 0s 5ms/step - loss: 1.1930 - mse: 1.1930\n",
            "Epoch 14/200\n",
            "3/3 [==============================] - 0s 5ms/step - loss: 1.8412 - mse: 1.8412\n",
            "Epoch 15/200\n",
            "3/3 [==============================] - 0s 5ms/step - loss: 0.6799 - mse: 0.6799\n",
            "Epoch 16/200\n",
            "3/3 [==============================] - 0s 4ms/step - loss: 0.3642 - mse: 0.3642\n",
            "Epoch 17/200\n",
            "3/3 [==============================] - 0s 4ms/step - loss: 0.4727 - mse: 0.4727\n",
            "Epoch 18/200\n",
            "3/3 [==============================] - 0s 3ms/step - loss: 0.0990 - mse: 0.0990\n",
            "Epoch 19/200\n",
            "3/3 [==============================] - 0s 4ms/step - loss: 0.2387 - mse: 0.2387\n",
            "Epoch 20/200\n",
            "3/3 [==============================] - 0s 3ms/step - loss: 0.1553 - mse: 0.1553\n",
            "Epoch 21/200\n",
            "3/3 [==============================] - 0s 3ms/step - loss: 0.0255 - mse: 0.0255\n",
            "Epoch 22/200\n",
            "3/3 [==============================] - 0s 5ms/step - loss: 0.0817 - mse: 0.0817\n",
            "Epoch 23/200\n",
            "3/3 [==============================] - 0s 3ms/step - loss: 0.0359 - mse: 0.0359\n",
            "Epoch 24/200\n",
            "3/3 [==============================] - 0s 3ms/step - loss: 0.0093 - mse: 0.0093\n",
            "Epoch 25/200\n",
            "3/3 [==============================] - 0s 4ms/step - loss: 0.0295 - mse: 0.0295\n",
            "Epoch 26/200\n",
            "3/3 [==============================] - 0s 4ms/step - loss: 0.0098 - mse: 0.0098\n",
            "Epoch 27/200\n",
            "3/3 [==============================] - 0s 4ms/step - loss: 0.0031 - mse: 0.0031    \n",
            "Epoch 28/200\n",
            "3/3 [==============================] - 0s 4ms/step - loss: 0.0116 - mse: 0.0116\n",
            "Epoch 29/200\n",
            "3/3 [==============================] - 0s 4ms/step - loss: 0.0032 - mse: 0.0032\n",
            "Epoch 30/200\n",
            "3/3 [==============================] - 0s 4ms/step - loss: 0.0017 - mse: 0.0017    \n",
            "Epoch 31/200\n",
            "3/3 [==============================] - 0s 4ms/step - loss: 0.0047 - mse: 0.0047\n",
            "Epoch 32/200\n",
            "3/3 [==============================] - 0s 4ms/step - loss: 0.0010 - mse: 0.0010\n",
            "Epoch 33/200\n",
            "3/3 [==============================] - 0s 4ms/step - loss: 0.0011 - mse: 0.0011    \n",
            "Epoch 34/200\n",
            "3/3 [==============================] - 0s 4ms/step - loss: 0.0022 - mse: 0.0022\n",
            "Epoch 35/200\n",
            "3/3 [==============================] - 0s 3ms/step - loss: 4.6256e-04 - mse: 4.6256e-04\n",
            "Epoch 36/200\n",
            "3/3 [==============================] - 0s 4ms/step - loss: 8.2583e-04 - mse: 8.2583e-04\n",
            "Epoch 37/200\n",
            "3/3 [==============================] - 0s 3ms/step - loss: 9.9519e-04 - mse: 9.9519e-04\n",
            "Epoch 38/200\n",
            "3/3 [==============================] - 0s 5ms/step - loss: 2.5091e-04 - mse: 2.5091e-04\n",
            "Epoch 39/200\n",
            "3/3 [==============================] - 0s 4ms/step - loss: 5.0919e-04 - mse: 5.0919e-04\n",
            "Epoch 40/200\n",
            "3/3 [==============================] - 0s 4ms/step - loss: 4.0801e-04 - mse: 4.0801e-04\n",
            "Epoch 41/200\n",
            "3/3 [==============================] - 0s 4ms/step - loss: 1.3972e-04 - mse: 1.3972e-04\n",
            "Epoch 42/200\n",
            "3/3 [==============================] - 0s 5ms/step - loss: 2.3827e-04 - mse: 2.3827e-04\n",
            "Epoch 43/200\n",
            "3/3 [==============================] - 0s 3ms/step - loss: 1.0012e-04 - mse: 1.0012e-04\n",
            "Epoch 44/200\n",
            "3/3 [==============================] - 0s 3ms/step - loss: 8.3753e-05 - mse: 8.3753e-05\n",
            "Epoch 45/200\n",
            "3/3 [==============================] - 0s 4ms/step - loss: 9.6572e-05 - mse: 9.6572e-05\n",
            "Epoch 46/200\n",
            "3/3 [==============================] - 0s 4ms/step - loss: 3.0210e-05 - mse: 3.0210e-05\n",
            "Epoch 47/200\n",
            "3/3 [==============================] - 0s 4ms/step - loss: 4.4692e-05 - mse: 4.4692e-05\n",
            "Epoch 48/200\n",
            "3/3 [==============================] - 0s 4ms/step - loss: 3.8809e-05 - mse: 3.8809e-05\n",
            "Epoch 49/200\n",
            "3/3 [==============================] - 0s 3ms/step - loss: 1.0049e-05 - mse: 1.0049e-05\n",
            "Epoch 50/200\n",
            "3/3 [==============================] - 0s 4ms/step - loss: 2.4711e-05 - mse: 2.4711e-05\n",
            "Epoch 51/200\n",
            "3/3 [==============================] - 0s 4ms/step - loss: 1.0518e-05 - mse: 1.0518e-05\n",
            "Epoch 52/200\n",
            "3/3 [==============================] - 0s 4ms/step - loss: 4.1238e-06 - mse: 4.1238e-06\n",
            "Epoch 53/200\n",
            "3/3 [==============================] - 0s 4ms/step - loss: 1.0801e-05 - mse: 1.0801e-05\n",
            "Epoch 54/200\n",
            "3/3 [==============================] - 0s 4ms/step - loss: 1.6715e-06 - mse: 1.6715e-06\n",
            "Epoch 55/200\n",
            "3/3 [==============================] - 0s 4ms/step - loss: 4.7256e-06 - mse: 4.7256e-06\n",
            "Epoch 56/200\n",
            "3/3 [==============================] - 0s 5ms/step - loss: 2.7778e-06 - mse: 2.7778e-06\n",
            "Epoch 57/200\n",
            "3/3 [==============================] - 0s 7ms/step - loss: 8.2314e-07 - mse: 8.2314e-07\n",
            "Epoch 58/200\n",
            "3/3 [==============================] - 0s 4ms/step - loss: 2.9051e-06 - mse: 2.9051e-06\n",
            "Epoch 59/200\n",
            "3/3 [==============================] - 0s 3ms/step - loss: 3.4721e-07 - mse: 3.4721e-07\n",
            "Epoch 60/200\n",
            "3/3 [==============================] - 0s 4ms/step - loss: 1.1506e-06 - mse: 1.1506e-06\n",
            "Epoch 61/200\n",
            "3/3 [==============================] - 0s 6ms/step - loss: 6.4719e-07 - mse: 6.4719e-07\n",
            "Epoch 62/200\n",
            "3/3 [==============================] - 0s 4ms/step - loss: 3.3219e-07 - mse: 3.3219e-07\n",
            "Epoch 63/200\n",
            "3/3 [==============================] - 0s 4ms/step - loss: 7.5596e-07 - mse: 7.5596e-07\n",
            "Epoch 64/200\n",
            "3/3 [==============================] - 0s 5ms/step - loss: 1.1257e-07 - mse: 1.1257e-07\n",
            "Epoch 65/200\n",
            "3/3 [==============================] - 0s 6ms/step - loss: 4.1552e-07 - mse: 4.1552e-07\n",
            "Epoch 66/200\n",
            "3/3 [==============================] - 0s 8ms/step - loss: 2.1197e-07 - mse: 2.1197e-07\n",
            "Epoch 67/200\n",
            "3/3 [==============================] - 0s 4ms/step - loss: 1.2113e-07 - mse: 1.2113e-07\n",
            "Epoch 68/200\n",
            "3/3 [==============================] - 0s 3ms/step - loss: 1.6837e-07 - mse: 1.6837e-07\n",
            "Epoch 69/200\n",
            "3/3 [==============================] - 0s 4ms/step - loss: 3.1905e-08 - mse: 3.1905e-08\n",
            "Epoch 70/200\n",
            "3/3 [==============================] - 0s 4ms/step - loss: 7.8931e-08 - mse: 7.8931e-08\n",
            "Epoch 71/200\n",
            "3/3 [==============================] - 0s 4ms/step - loss: 1.1534e-08 - mse: 1.1534e-08\n",
            "Epoch 72/200\n",
            "3/3 [==============================] - 0s 4ms/step - loss: 3.0828e-08 - mse: 3.0828e-08\n",
            "Epoch 73/200\n",
            "3/3 [==============================] - 0s 6ms/step - loss: 1.5556e-08 - mse: 1.5556e-08\n",
            "Epoch 74/200\n",
            "3/3 [==============================] - 0s 6ms/step - loss: 5.3794e-09 - mse: 5.3794e-09\n",
            "Epoch 75/200\n",
            "3/3 [==============================] - 0s 5ms/step - loss: 1.2210e-08 - mse: 1.2210e-08\n",
            "Epoch 76/200\n",
            "3/3 [==============================] - 0s 4ms/step - loss: 7.3302e-10 - mse: 7.3302e-10\n",
            "Epoch 77/200\n",
            "3/3 [==============================] - 0s 4ms/step - loss: 7.7211e-09 - mse: 7.7211e-09\n",
            "Epoch 78/200\n",
            "3/3 [==============================] - 0s 7ms/step - loss: 1.2190e-09 - mse: 1.2190e-09\n",
            "Epoch 79/200\n",
            "3/3 [==============================] - 0s 6ms/step - loss: 4.1434e-09 - mse: 4.1434e-09\n",
            "Epoch 80/200\n",
            "3/3 [==============================] - 0s 4ms/step - loss: 1.8437e-09 - mse: 1.8437e-09\n",
            "Epoch 81/200\n",
            "3/3 [==============================] - 0s 4ms/step - loss: 1.4054e-09 - mse: 1.4054e-09\n",
            "Epoch 82/200\n",
            "3/3 [==============================] - 0s 4ms/step - loss: 1.5140e-09 - mse: 1.5140e-09\n",
            "Epoch 83/200\n",
            "3/3 [==============================] - 0s 5ms/step - loss: 4.8590e-10 - mse: 4.8590e-10\n",
            "Epoch 84/200\n",
            "3/3 [==============================] - 0s 6ms/step - loss: 1.1583e-09 - mse: 1.1583e-09\n",
            "Epoch 85/200\n",
            "3/3 [==============================] - 0s 4ms/step - loss: 2.4875e-10 - mse: 2.4875e-10\n",
            "Epoch 86/200\n",
            "3/3 [==============================] - 0s 6ms/step - loss: 6.2237e-10 - mse: 6.2237e-10\n",
            "Epoch 87/200\n",
            "3/3 [==============================] - 0s 5ms/step - loss: 1.7116e-10 - mse: 1.7116e-10\n",
            "Epoch 88/200\n",
            "3/3 [==============================] - 0s 4ms/step - loss: 2.5682e-10 - mse: 2.5682e-10\n",
            "Epoch 89/200\n",
            "3/3 [==============================] - 0s 3ms/step - loss: 1.1305e-10 - mse: 1.1305e-10\n",
            "Epoch 90/200\n",
            "3/3 [==============================] - 0s 4ms/step - loss: 8.4954e-11 - mse: 8.4954e-11\n",
            "Epoch 91/200\n",
            "3/3 [==============================] - 0s 3ms/step - loss: 5.5167e-11 - mse: 5.5167e-11\n",
            "Epoch 92/200\n",
            "3/3 [==============================] - 0s 4ms/step - loss: 2.0184e-11 - mse: 2.0184e-11\n",
            "Epoch 93/200\n",
            "3/3 [==============================] - 0s 4ms/step - loss: 3.4277e-11 - mse: 3.4277e-11\n",
            "Epoch 94/200\n",
            "3/3 [==============================] - 0s 4ms/step - loss: 5.2263e-12 - mse: 5.2263e-12\n",
            "Epoch 95/200\n",
            "3/3 [==============================] - 0s 4ms/step - loss: 2.7360e-11 - mse: 2.7360e-11\n",
            "Epoch 96/200\n",
            "3/3 [==============================] - 0s 4ms/step - loss: 3.2693e-12 - mse: 3.2693e-12\n",
            "Epoch 97/200\n",
            "3/3 [==============================] - 0s 4ms/step - loss: 1.3836e-11 - mse: 1.3836e-11\n",
            "Epoch 98/200\n",
            "3/3 [==============================] - 0s 4ms/step - loss: 2.6928e-12 - mse: 2.6928e-12\n",
            "Epoch 99/200\n",
            "3/3 [==============================] - 0s 3ms/step - loss: 6.5524e-12 - mse: 6.5524e-12\n",
            "Epoch 100/200\n",
            "3/3 [==============================] - 0s 4ms/step - loss: 1.4747e-12 - mse: 1.4747e-12\n",
            "Epoch 101/200\n",
            "3/3 [==============================] - 0s 4ms/step - loss: 5.1346e-12 - mse: 5.1346e-12\n",
            "Epoch 102/200\n",
            "3/3 [==============================] - 0s 4ms/step - loss: 1.3423e-12 - mse: 1.3423e-12\n",
            "Epoch 103/200\n",
            "3/3 [==============================] - 0s 4ms/step - loss: 1.5258e-12 - mse: 1.5258e-12\n",
            "Epoch 104/200\n",
            "3/3 [==============================] - 0s 4ms/step - loss: 7.7145e-13 - mse: 7.7145e-13\n",
            "Epoch 105/200\n",
            "3/3 [==============================] - 0s 4ms/step - loss: 1.0922e-12 - mse: 1.0922e-12\n",
            "Epoch 106/200\n",
            "3/3 [==============================] - 0s 4ms/step - loss: 7.1135e-13 - mse: 7.1135e-13\n",
            "Epoch 107/200\n",
            "3/3 [==============================] - 0s 4ms/step - loss: 7.1542e-13 - mse: 7.1542e-13\n",
            "Epoch 108/200\n",
            "3/3 [==============================] - 0s 3ms/step - loss: 5.7168e-13 - mse: 5.7168e-13\n",
            "Epoch 109/200\n",
            "3/3 [==============================] - 0s 4ms/step - loss: 9.1437e-13 - mse: 9.1437e-13\n",
            "Epoch 110/200\n",
            "3/3 [==============================] - 0s 4ms/step - loss: 7.2191e-13 - mse: 7.2191e-13\n",
            "Epoch 111/200\n",
            "3/3 [==============================] - 0s 4ms/step - loss: 1.2457e-12 - mse: 1.2457e-12\n",
            "Epoch 112/200\n",
            "3/3 [==============================] - 0s 4ms/step - loss: 3.0858e-13 - mse: 3.0858e-13\n",
            "Epoch 113/200\n",
            "3/3 [==============================] - 0s 3ms/step - loss: 5.6031e-13 - mse: 5.6031e-13\n",
            "Epoch 114/200\n",
            "3/3 [==============================] - 0s 4ms/step - loss: 1.8515e-13 - mse: 1.8515e-13\n",
            "Epoch 115/200\n",
            "3/3 [==============================] - 0s 4ms/step - loss: 4.5475e-13 - mse: 4.5475e-13\n",
            "Epoch 116/200\n",
            "3/3 [==============================] - 0s 4ms/step - loss: 3.8004e-13 - mse: 3.8004e-13\n",
            "Epoch 117/200\n",
            "3/3 [==============================] - 0s 5ms/step - loss: 1.9489e-13 - mse: 1.9489e-13\n",
            "Epoch 118/200\n",
            "3/3 [==============================] - 0s 6ms/step - loss: 1.9489e-13 - mse: 1.9489e-13\n",
            "Epoch 119/200\n",
            "3/3 [==============================] - 0s 10ms/step - loss: 1.9489e-13 - mse: 1.9489e-13\n",
            "Epoch 120/200\n",
            "3/3 [==============================] - 0s 7ms/step - loss: 1.9814e-13 - mse: 1.9814e-13\n",
            "Epoch 121/200\n",
            "3/3 [==============================] - 0s 6ms/step - loss: 1.9489e-13 - mse: 1.9489e-13\n",
            "Epoch 122/200\n",
            "3/3 [==============================] - 0s 6ms/step - loss: 1.9489e-13 - mse: 1.9489e-13\n",
            "Epoch 123/200\n",
            "3/3 [==============================] - 0s 5ms/step - loss: 1.9489e-13 - mse: 1.9489e-13\n",
            "Epoch 124/200\n",
            "3/3 [==============================] - 0s 6ms/step - loss: 1.9489e-13 - mse: 1.9489e-13\n",
            "Epoch 125/200\n",
            "3/3 [==============================] - 0s 5ms/step - loss: 1.9489e-13 - mse: 1.9489e-13\n",
            "Epoch 126/200\n",
            "3/3 [==============================] - 0s 7ms/step - loss: 1.9489e-13 - mse: 1.9489e-13\n",
            "Epoch 127/200\n",
            "3/3 [==============================] - 0s 6ms/step - loss: 1.9489e-13 - mse: 1.9489e-13\n",
            "Epoch 128/200\n",
            "3/3 [==============================] - 0s 5ms/step - loss: 1.9489e-13 - mse: 1.9489e-13\n",
            "Epoch 129/200\n",
            "3/3 [==============================] - 0s 5ms/step - loss: 1.9489e-13 - mse: 1.9489e-13\n",
            "Epoch 130/200\n",
            "3/3 [==============================] - 0s 5ms/step - loss: 1.9489e-13 - mse: 1.9489e-13\n",
            "Epoch 131/200\n",
            "3/3 [==============================] - 0s 5ms/step - loss: 1.9489e-13 - mse: 1.9489e-13\n",
            "Epoch 132/200\n",
            "3/3 [==============================] - 0s 5ms/step - loss: 1.9489e-13 - mse: 1.9489e-13\n",
            "Epoch 133/200\n",
            "3/3 [==============================] - 0s 6ms/step - loss: 1.9489e-13 - mse: 1.9489e-13\n",
            "Epoch 134/200\n",
            "3/3 [==============================] - 0s 5ms/step - loss: 1.9489e-13 - mse: 1.9489e-13\n",
            "Epoch 135/200\n",
            "3/3 [==============================] - 0s 5ms/step - loss: 1.9489e-13 - mse: 1.9489e-13\n",
            "Epoch 136/200\n",
            "3/3 [==============================] - 0s 5ms/step - loss: 1.9489e-13 - mse: 1.9489e-13\n",
            "Epoch 137/200\n",
            "3/3 [==============================] - 0s 8ms/step - loss: 1.9489e-13 - mse: 1.9489e-13\n",
            "Epoch 138/200\n",
            "3/3 [==============================] - 0s 7ms/step - loss: 1.9489e-13 - mse: 1.9489e-13\n",
            "Epoch 139/200\n",
            "3/3 [==============================] - 0s 7ms/step - loss: 1.9489e-13 - mse: 1.9489e-13\n"
          ]
        },
        {
          "output_type": "execute_result",
          "data": {
            "text/plain": [
              "<keras.src.callbacks.History at 0x7a2f11947250>"
            ]
          },
          "metadata": {},
          "execution_count": 44
        }
      ]
    },
    {
      "cell_type": "code",
      "source": [
        "model.summary()"
      ],
      "metadata": {
        "colab": {
          "base_uri": "https://localhost:8080/"
        },
        "id": "JPZ8N0mR0oqX",
        "outputId": "c7ccdbbf-b36d-4913-cf1f-6c10349779b8"
      },
      "execution_count": null,
      "outputs": [
        {
          "output_type": "stream",
          "name": "stdout",
          "text": [
            "Model: \"sequential_3\"\n",
            "_________________________________________________________________\n",
            " Layer (type)                Output Shape              Param #   \n",
            "=================================================================\n",
            " simple_rnn_3 (SimpleRNN)    (None, 1)                 3         \n",
            "                                                                 \n",
            "=================================================================\n",
            "Total params: 3 (12.00 Byte)\n",
            "Trainable params: 3 (12.00 Byte)\n",
            "Non-trainable params: 0 (0.00 Byte)\n",
            "_________________________________________________________________\n"
          ]
        }
      ]
    },
    {
      "cell_type": "code",
      "source": [
        "#prediction from model / testing model\n",
        "predicteddata=model.predict(trainingdata)"
      ],
      "metadata": {
        "colab": {
          "base_uri": "https://localhost:8080/"
        },
        "id": "QE3F6s-s30M3",
        "outputId": "9395f45f-6f10-40f3-d11b-b0e49a7cdd23"
      },
      "execution_count": null,
      "outputs": [
        {
          "output_type": "stream",
          "name": "stdout",
          "text": [
            "3/3 [==============================] - 0s 3ms/step\n"
          ]
        }
      ]
    },
    {
      "cell_type": "code",
      "source": [
        "predicteddata=predicteddata.flatten()\n",
        "predicteddata"
      ],
      "metadata": {
        "colab": {
          "base_uri": "https://localhost:8080/"
        },
        "id": "ElOuYQ-U6bcR",
        "outputId": "55399a64-3682-4e11-e9bc-1760d6512bee"
      },
      "execution_count": null,
      "outputs": [
        {
          "output_type": "execute_result",
          "data": {
            "text/plain": [
              "array([3.       , 4.       , 5.       , 5.9999995, 7.000001 , 7.9999995,\n",
              "       9.       , 3.       , 4.       , 5.       , 5.9999995, 7.000001 ,\n",
              "       7.9999995, 9.       , 3.       , 4.       , 5.       , 5.9999995,\n",
              "       7.000001 , 7.9999995, 9.       , 3.       , 4.       , 5.       ,\n",
              "       5.9999995, 7.000001 , 7.9999995, 9.       , 3.       , 4.       ,\n",
              "       5.       , 5.9999995, 7.000001 , 7.9999995, 9.       , 3.       ,\n",
              "       4.       , 5.       , 5.9999995, 7.000001 , 7.9999995, 9.       ,\n",
              "       3.       , 4.       , 5.       , 5.9999995, 7.000001 , 7.9999995,\n",
              "       9.       , 3.       , 4.       , 5.       , 5.9999995, 7.000001 ,\n",
              "       7.9999995, 9.       , 3.       , 4.       , 5.       , 5.9999995,\n",
              "       7.000001 , 7.9999995, 9.       , 3.       , 4.       , 5.       ,\n",
              "       5.9999995, 7.000001 , 7.9999995, 9.       ], dtype=float32)"
            ]
          },
          "metadata": {},
          "execution_count": 47
        }
      ]
    },
    {
      "cell_type": "code",
      "source": [
        "for i in range(len(predicteddata[:8])):\n",
        "  actualdata=trainingdata[i].flatten()\n",
        "  predictedvalue = predicteddata[i]\n",
        "  print(f'{actualdata} ==> {predictedvalue}')"
      ],
      "metadata": {
        "colab": {
          "base_uri": "https://localhost:8080/"
        },
        "id": "rqG8G2lQ6dhx",
        "outputId": "9537e537-2da0-4f70-82c7-0d8b83114ef8"
      },
      "execution_count": null,
      "outputs": [
        {
          "output_type": "stream",
          "name": "stdout",
          "text": [
            "[0. 1. 2.] ==> 3.0\n",
            "[1. 2. 3.] ==> 4.0\n",
            "[2. 3. 4.] ==> 5.0\n",
            "[3. 4. 5.] ==> 5.999999523162842\n",
            "[4. 5. 6.] ==> 7.000000953674316\n",
            "[5. 6. 7.] ==> 7.999999523162842\n",
            "[6. 7. 8.] ==> 9.0\n",
            "[0. 1. 2.] ==> 3.0\n"
          ]
        }
      ]
    },
    {
      "cell_type": "code",
      "source": [
        "import matplotlib.pyplot as plt\n",
        "plt.plot([0,10],[0,10],color='g',ls='--',lw=1)\n",
        "plt.scatter(predicteddata,traininglabels.flatten(),color='r',s=100)\n",
        "plt.xlabel(\"predicted data\",fontsize=20)\n",
        "plt.ylabel(\"actual data\",fontsize=20)"
      ],
      "metadata": {
        "colab": {
          "base_uri": "https://localhost:8080/",
          "height": 480
        },
        "id": "-YNk47Uv7Smd",
        "outputId": "908da591-c30d-4bbc-a233-e0bf59cbab95"
      },
      "execution_count": null,
      "outputs": [
        {
          "output_type": "execute_result",
          "data": {
            "text/plain": [
              "Text(0, 0.5, 'actual data')"
            ]
          },
          "metadata": {},
          "execution_count": 51
        },
        {
          "output_type": "display_data",
          "data": {
            "text/plain": [
              "<Figure size 640x480 with 1 Axes>"
            ],
            "image/png": "[encoded data removed]"
          },
          "metadata": {}
        }
      ]
    },
    {
      "cell_type": "code",
      "source": [
        "testdata=np.array([[6,7,8],[9,10,11],[10,11,12],[25,26,27],[100,101,102],[1001,1002,1003]])\n",
        "testpred=model.predict(testdata).flatten()"
      ],
      "metadata": {
        "colab": {
          "base_uri": "https://localhost:8080/"
        },
        "id": "zxQRyCPg9Jcf",
        "outputId": "abb279e4-40d9-47c6-e77e-af7e6ddb7d1d"
      },
      "execution_count": null,
      "outputs": [
        {
          "output_type": "stream",
          "name": "stdout",
          "text": [
            "1/1 [==============================] - 0s 28ms/step\n"
          ]
        }
      ]
    },
    {
      "cell_type": "code",
      "source": [
        "testpred"
      ],
      "metadata": {
        "colab": {
          "base_uri": "https://localhost:8080/"
        },
        "id": "KYkTVoZd9zZn",
        "outputId": "ab30db4f-8ce8-4747-c217-db23e1e86d2b"
      },
      "execution_count": null,
      "outputs": [
        {
          "output_type": "execute_result",
          "data": {
            "text/plain": [
              "array([   9.      ,   12.      ,   13.000001,   28.      ,  103.      ,\n",
              "       1004.      ], dtype=float32)"
            ]
          },
          "metadata": {},
          "execution_count": 55
        }
      ]
    },
    {
      "cell_type": "code",
      "source": [],
      "metadata": {
        "id": "DkK1Aphf91zq"
      },
      "execution_count": null,
      "outputs": []
    }
  ]
}